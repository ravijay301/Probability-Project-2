{
 "cells": [
  {
   "cell_type": "code",
   "execution_count": 26,
   "metadata": {},
   "outputs": [],
   "source": [
    "import numpy as np"
   ]
  },
  {
   "cell_type": "code",
   "execution_count": 27,
   "metadata": {},
   "outputs": [],
   "source": [
    "data = np.genfromtxt('data.txt')"
   ]
  },
  {
   "cell_type": "code",
   "execution_count": 28,
   "metadata": {},
   "outputs": [
    {
     "name": "stdout",
     "output_type": "stream",
     "text": [
      "Mean:\t\t 40.16744061784885\n",
      "Median:\t\t 27.35860862558663\n",
      "1st Quartile:\t 13.66161401250926\n",
      "3rd Quartile:\t 58.17919808099262\n",
      "Min:\t\t 6.012824232911655\n",
      "Max:\t\t 128.0\n"
     ]
    }
   ],
   "source": [
    "print(\"Mean:\\t\\t\",np.mean(data))\n",
    "print(\"Median:\\t\\t\",np.median(data))\n",
    "print(\"1st Quartile:\\t\",np.percentile(data, 25))\n",
    "print(\"3rd Quartile:\\t\",np.percentile(data, 75))\n",
    "print(\"Min:\\t\\t\",data.min())\n",
    "print(\"Max:\\t\\t\",data.max())"
   ]
  },
  {
   "cell_type": "code",
   "execution_count": 29,
   "metadata": {},
   "outputs": [],
   "source": [
    "w1 = 15\n",
    "w2 = 20\n",
    "w3 = 30\n",
    "w4 = 40\n",
    "w5 = 65\n",
    "w6 = 90\n",
    "w7 = 110"
   ]
  },
  {
   "cell_type": "code",
   "execution_count": 30,
   "metadata": {},
   "outputs": [],
   "source": [
    "probw1 = len(np.extract(data <= w1, data))/len(data)\n",
    "probw2 = len(np.extract(data <= w2, data))/len(data)\n",
    "probw3 = len(np.extract(data <= w3, data))/len(data)\n",
    "probw4 = len(np.extract(data > w4, data))/len(data)\n",
    "probw5 = len(np.extract(data > w5, data))/len(data)\n",
    "probw6 = len(np.extract(data > w6, data))/len(data)\n",
    "probw7 = len(np.extract(data > w7, data))/len(data)"
   ]
  },
  {
   "cell_type": "code",
   "execution_count": 31,
   "metadata": {},
   "outputs": [
    {
     "name": "stdout",
     "output_type": "stream",
     "text": [
      "W <= 15 :\t 0.278\n",
      "W <= 20 :\t 0.379\n",
      "W <= 30 :\t 0.532\n",
      "W > 40 :\t 0.429\n",
      "W > 65 :\t 0.214\n",
      "W > 90 :\t 0.083\n",
      "W > 110 :\t 0.025\n"
     ]
    }
   ],
   "source": [
    "print('W <=',w1,':\\t',probw1)\n",
    "print('W <=',w2,':\\t',probw2)\n",
    "print('W <=',w3,':\\t',probw3)\n",
    "print('W >',w4,':\\t',probw4)\n",
    "print('W >',w5,':\\t',probw5)\n",
    "print('W >',w6,':\\t',probw6)\n",
    "print('W >',w7,':\\t',probw7)"
   ]
  },
  {
   "cell_type": "code",
   "execution_count": 32,
   "metadata": {},
   "outputs": [],
   "source": [
    "yCDF = [0, probw1, probw2, probw3, 1-probw4, 1-probw5, 1-probw6, 1-probw7, 1]\n",
    "xCDF = [6, 15, 20, 30, 40, 65, 90, 110, 128]"
   ]
  },
  {
   "cell_type": "code",
   "execution_count": 33,
   "metadata": {},
   "outputs": [
    {
     "data": {
      "image/png": "[encoded data removed]",
      "text/plain": [
       "<Figure size 720x360 with 1 Axes>"
      ]
     },
     "metadata": {
      "needs_background": "light"
     },
     "output_type": "display_data"
    }
   ],
   "source": [
    "import matplotlib.pyplot as plt\n",
    "maxCDFx = np.array([128, 150])\n",
    "maxCDFy = np.array([1, 1])\n",
    "minCDFx = np.array([-10, 6])\n",
    "minCDFy = np.array([0,0])\n",
    "fig, w0 = plt.subplots(figsize=(10, 5))\n",
    "w0.plot(xCDF, yCDF, marker = 'o', color = '#5061f2')\n",
    "w0.plot(maxCDFx, maxCDFy, color = '#5061F2', linestyle = 'dotted')\n",
    "w0.plot(minCDFx, minCDFy, color = '#5061F2', linestyle = 'dotted')\n",
    "\n",
    "w0.set_xlabel('Values of W')\n",
    "w0.set_ylabel('Cumulative Probabilities')\n",
    "w0.grid()\n",
    "plt.savefig('figures/cdf.png')\n"
   ]
  },
  {
   "cell_type": "code",
   "execution_count": 34,
   "metadata": {},
   "outputs": [
    {
     "data": {
      "image/png": "[encoded data removed]",
      "text/plain": [
       "<Figure size 720x360 with 1 Axes>"
      ]
     },
     "metadata": {
      "needs_background": "light"
     },
     "output_type": "display_data"
    }
   ],
   "source": [
    "plt.figure(figsize = (10, 5))\n",
    "plt.boxplot(data, vert = False, labels = ['W values'], patch_artist = True, autorange = False, widths = 0.35)\n",
    "plt.savefig('figures/boxplot.png')"
   ]
  }
 ],
 "metadata": {
  "interpreter": {
   "hash": "916dbcbb3f70747c44a77c7bcd40155683ae19c65e1c03b4aa3499c5328201f1"
  },
  "kernelspec": {
   "display_name": "Python 3.9.7 64-bit",
   "language": "python",
   "name": "python3"
  },
  "language_info": {
   "codemirror_mode": {
    "name": "ipython",
    "version": 3
   },
   "file_extension": ".py",
   "mimetype": "text/x-python",
   "name": "python",
   "nbconvert_exporter": "python",
   "pygments_lexer": "ipython3",
   "version": "3.9.7"
  },
  "orig_nbformat": 4
 },
 "nbformat": 4,
 "nbformat_minor": 2
}
